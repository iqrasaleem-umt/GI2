{
 "cells": [
  {
   "cell_type": "markdown",
   "metadata": {},
   "source": [
    "# How to define Variables\n",
    "# Error \n",
    "* name in string will be print\n",
    "* name without string will not print bcz name or variable is not defind and without \n",
    "* string it would not print"
   ]
  },
  {
   "cell_type": "code",
   "execution_count": 1,
   "metadata": {},
   "outputs": [
    {
     "name": "stdout",
     "output_type": "stream",
     "text": [
      "name\n"
     ]
    }
   ],
   "source": [
    "print(\"name\")"
   ]
  },
  {
   "cell_type": "code",
   "execution_count": 2,
   "metadata": {},
   "outputs": [
    {
     "ename": "NameError",
     "evalue": "name 'name' is not defined",
     "output_type": "error",
     "traceback": [
      "\u001b[1;31m---------------------------------------------------------------------------\u001b[0m",
      "\u001b[1;31mNameError\u001b[0m                                 Traceback (most recent call last)",
      "Cell \u001b[1;32mIn[2], line 1\u001b[0m\n\u001b[1;32m----> 1\u001b[0m \u001b[38;5;28mprint\u001b[39m(\u001b[43mname\u001b[49m)\n",
      "\u001b[1;31mNameError\u001b[0m: name 'name' is not defined"
     ]
    }
   ],
   "source": [
    "print(name)"
   ]
  },
  {
   "cell_type": "markdown",
   "metadata": {},
   "source": [
    "# How many ways string can be define"
   ]
  },
  {
   "cell_type": "code",
   "execution_count": 3,
   "metadata": {},
   "outputs": [
    {
     "name": "stdout",
     "output_type": "stream",
     "text": [
      "iqra\n",
      "<class 'str'>\n"
     ]
    }
   ],
   "source": [
    "* \"string text\",'string text',\"\"\"string text\"\"\" '''string text'''\n",
    "name:str = \"iqra\"\n",
    "print(name)\n",
    "print(type(name))"
   ]
  },
  {
   "cell_type": "code",
   "execution_count": 4,
   "metadata": {},
   "outputs": [
    {
     "name": "stdout",
     "output_type": "stream",
     "text": [
      "iqra\n",
      "<class 'str'>\n"
     ]
    }
   ],
   "source": [
    "* \"string text\",'string text',\"\"\"string text\"\"\" '''string text'''\n",
    "name:str = 'iqra'\n",
    "print(name)\n",
    "print(type(name))"
   ]
  },
  {
   "cell_type": "markdown",
   "metadata": {},
   "source": [
    "* apostrophy always written in double quote"
   ]
  },
  {
   "cell_type": "code",
   "execution_count": 5,
   "metadata": {},
   "outputs": [
    {
     "name": "stdout",
     "output_type": "stream",
     "text": [
      "hey my name is iqra' saleem\n"
     ]
    }
   ],
   "source": [
    "message:str=\"hey my name is iqra' saleem\"\n",
    "print(message)"
   ]
  },
  {
   "cell_type": "code",
   "execution_count": 6,
   "metadata": {},
   "outputs": [
    {
     "ename": "SyntaxError",
     "evalue": "unterminated string literal (detected at line 1) (628487669.py, line 1)",
     "output_type": "error",
     "traceback": [
      "\u001b[1;36m  Cell \u001b[1;32mIn[6], line 1\u001b[1;36m\u001b[0m\n\u001b[1;33m    message:str='hey my name is iqra' saleem'\u001b[0m\n\u001b[1;37m                                            ^\u001b[0m\n\u001b[1;31mSyntaxError\u001b[0m\u001b[1;31m:\u001b[0m unterminated string literal (detected at line 1)\n"
     ]
    }
   ],
   "source": [
    "message:str='hey my name is iqra' saleem'\n",
    "print(message)"
   ]
  },
  {
   "cell_type": "markdown",
   "metadata": {},
   "source": [
    "* we can also write any value in double quote and wrape in single quote\n",
    "* now we want to use single code for inside text and also sigle code for outer then we will add just add / before character"
   ]
  },
  {
   "cell_type": "code",
   "execution_count": 8,
   "metadata": {},
   "outputs": [
    {
     "name": "stdout",
     "output_type": "stream",
     "text": [
      "Piaic \"student card\" for registration\n"
     ]
    }
   ],
   "source": [
    "\n",
    "message:str ='Piaic \"student card\" for registration'\n",
    "print(message)"
   ]
  },
  {
   "cell_type": "code",
   "execution_count": 12,
   "metadata": {},
   "outputs": [
    {
     "name": "stdout",
     "output_type": "stream",
     "text": [
      "my name is iqra i am daughter of Muhammad 's saleem\n"
     ]
    }
   ],
   "source": [
    "message:str='my name is iqra i am daughter of Muhammad \\'s saleem'\n",
    "\n",
    "print(message)"
   ]
  },
  {
   "cell_type": "markdown",
   "metadata": {},
   "source": [
    "# why triple quotes are necessary"
   ]
  },
  {
   "cell_type": "markdown",
   "metadata": {},
   "source": [
    "to define multiline string we use \"\"\" \"\"\" ''' ''' yeah khudi next line hr functionality add krta hai or type casting ki problem b solve krta hai it also allow to add any expression without define as a variable \n",
    "* + is use to add string \n",
    "* F-string is most powerfull in python F-string ka yeah faida hai ap kisi b jagah koeee b variable kisi b type ka pass krtay hai you have access to pass it how to use put f before triple quote and use curly braces{} k andr just variable name likhay "
   ]
  },
  {
   "cell_type": "code",
   "execution_count": 13,
   "metadata": {},
   "outputs": [
    {
     "data": {
      "text/plain": [
       "'abc'"
      ]
     },
     "execution_count": 13,
     "metadata": {},
     "output_type": "execute_result"
    }
   ],
   "source": [
    "\"a\"+\"b\"+\"c\""
   ]
  },
  {
   "cell_type": "code",
   "execution_count": 20,
   "metadata": {},
   "outputs": [
    {
     "name": "stdout",
     "output_type": "stream",
     "text": [
      " \n",
      "PIAIA student card\n",
      "Student Name :iqra saleem\n",
      "Education : learning python from piaic\n",
      "Time :9\n",
      "Total marks : 68\n",
      "\n"
     ]
    }
   ],
   "source": [
    "name : str = \"iqra saleem\"\n",
    "education : str = \" learning python from piaic\"\n",
    "time : int = 9\n",
    "\n",
    "card : str =f\"\"\" \n",
    "PIAIA student card\n",
    "Student Name :{name}\n",
    "Education :{education}\n",
    "Time :{time}\n",
    "Total marks : {20+40+8}\n",
    "\"\"\"\n",
    "\n",
    "print(card)"
   ]
  },
  {
   "cell_type": "markdown",
   "metadata": {},
   "source": [
    " # F-string and jinja"
   ]
  },
  {
   "cell_type": "code",
   "execution_count": 21,
   "metadata": {},
   "outputs": [
    {
     "data": {
      "text/plain": [
       "' \\nstudent name:iqra\\n'"
      ]
     },
     "execution_count": 21,
     "metadata": {},
     "output_type": "execute_result"
    }
   ],
   "source": [
    "# f-string\n",
    "name:str = \"iqra\"\n",
    "f\"\"\" \n",
    "student name:{name}\n",
    "\"\"\""
   ]
  },
  {
   "cell_type": "code",
   "execution_count": null,
   "metadata": {},
   "outputs": [],
   "source": [
    "# jinja style we add double curly braces\n",
    "name:str = \"iqra\"\n",
    "f\"\"\" \n",
    "    student name:{{name}}\n",
    "\"\"\""
   ]
  },
  {
   "cell_type": "markdown",
   "metadata": {},
   "source": [
    "# String methods\n",
    "* there are many method of string like capitalize lower so on we just understand this method"
   ]
  },
  {
   "cell_type": "code",
   "execution_count": 24,
   "metadata": {},
   "outputs": [
    {
     "name": "stdout",
     "output_type": "stream",
     "text": [
      "Iqra\n",
      "iqra\n"
     ]
    }
   ],
   "source": [
    "name : str = \"iqra\"\n",
    "print(name.capitalize())\n",
    "print(name.lower())\n"
   ]
  },
  {
   "cell_type": "code",
   "execution_count": 25,
   "metadata": {},
   "outputs": [
    {
     "data": {
      "text/plain": [
       "'pakistan value a = 7 and value b = 8'"
      ]
     },
     "execution_count": 25,
     "metadata": {},
     "output_type": "execute_result"
    }
   ],
   "source": [
    "a=7 \n",
    "b=8\n",
    "\"pakistan value a = {} and value b = {}\".format(a,b)"
   ]
  },
  {
   "cell_type": "markdown",
   "metadata": {},
   "source": [
    "# 2nd method \n",
    "# recommended below there are two methods for f-string"
   ]
  },
  {
   "cell_type": "code",
   "execution_count": 26,
   "metadata": {},
   "outputs": [
    {
     "name": "stdout",
     "output_type": "stream",
     "text": [
      "\n",
      "PIAIA student card\n",
      "Student Name :iqra saleem\n",
      "Education : learning python from piaic\n",
      "Time :9\n",
      "\n"
     ]
    }
   ],
   "source": [
    "name : str = \"iqra saleem\"\n",
    "education : str = \" learning python from piaic\"\n",
    "time : int = 9\n",
    "\n",
    "\n",
    "card : str =\"\"\"\n",
    "PIAIA student card\n",
    "Student Name :{a}\n",
    "Education :{b}\n",
    "Time :{c}\n",
    "\"\"\" .format(a=name ,b=education,c=time)\n",
    "\n",
    "\n",
    "print(card)"
   ]
  },
  {
   "cell_type": "code",
   "execution_count": 27,
   "metadata": {},
   "outputs": [
    {
     "name": "stdout",
     "output_type": "stream",
     "text": [
      " \n",
      "PIAIA student card\n",
      "Student Name :iqra saleem\n",
      "Education : learning python from piaic\n",
      "Time :9\n",
      "Total marks : 68\n",
      "\n"
     ]
    }
   ],
   "source": [
    "name : str = \"iqra saleem\"\n",
    "education : str = \" learning python from piaic\"\n",
    "time : int = 9\n",
    "\n",
    "card : str =f\"\"\" \n",
    "PIAIA student card\n",
    "Student Name :{name}\n",
    "Education :{education}\n",
    "Time :{time}\n",
    "Total marks : {20+40+8}\n",
    "\"\"\"\n",
    "\n",
    "print(card)"
   ]
  },
  {
   "cell_type": "markdown",
   "metadata": {},
   "source": [
    "# power of tripple quote ''''''\n",
    "* you can write anything in triple quote as your desire"
   ]
  },
  {
   "cell_type": "code",
   "execution_count": 29,
   "metadata": {},
   "outputs": [
    {
     "name": "stdout",
     "output_type": "stream",
     "text": [
      " i am learning python for quarter 3\n",
      "112\n"
     ]
    }
   ],
   "source": [
    "student_info : str = \"\"\" \n",
    "print(\" i am learning python for quarter 3\")\n",
    "number1 : int = 23\n",
    "number2 : int = 89\n",
    "print(number1+number2)\n",
    "\"\"\"\n",
    "exec(student_info)"
   ]
  },
  {
   "cell_type": "markdown",
   "metadata": {},
   "source": [
    "# string method and attributes\n",
    "* predefine global function\n",
    "*print type id dir len"
   ]
  },
  {
   "cell_type": "code",
   "execution_count": 33,
   "metadata": {},
   "outputs": [
    {
     "name": "stdout",
     "output_type": "stream",
     "text": [
      "['capitalize', 'casefold', 'center', 'count', 'encode', 'endswith', 'expandtabs', 'find', 'format', 'index', 'isalnum', 'isalpha', 'isascii', 'isdecimal', 'isdigit', 'isidentifier', 'islower', 'isnumeric', 'isprintable', 'isspace', 'istitle', 'isupper', 'join', 'ljust', 'lower', 'lstrip', 'maketrans', 'partition', 'removeprefix', 'removesuffix', 'replace', 'rfind', 'rindex', 'rjust', 'rpartition', 'rsplit', 'rstrip', 'split', 'splitlines', 'startswith', 'strip', 'swapcase', 'title', 'translate', 'upper', 'zfill']\n",
      "46\n",
      "<built-in method capitalize of str object at 0x000001A00DC81AA0>\n"
     ]
    }
   ],
   "source": [
    "a: list[str] = [ i for i in dir(str) if \"_\" not in i]\n",
    "print(a)\n",
    "print(len(a))\n",
    "\n",
    "# syntax to use method\n",
    "# variable_name.method() some takes arguments\n"
   ]
  },
  {
   "cell_type": "code",
   "execution_count": 34,
   "metadata": {},
   "outputs": [
    {
     "name": "stdout",
     "output_type": "stream",
     "text": [
      "Iqra\n"
     ]
    }
   ],
   "source": [
    "name : str =\"IQra\"\n",
    "print(name.capitalize())"
   ]
  },
  {
   "cell_type": "code",
   "execution_count": 38,
   "metadata": {},
   "outputs": [
    {
     "data": {
      "text/plain": [
       "'     IQra      '"
      ]
     },
     "metadata": {},
     "output_type": "display_data"
    },
    {
     "data": {
      "text/plain": [
       "'IQra      '"
      ]
     },
     "metadata": {},
     "output_type": "display_data"
    },
    {
     "data": {
      "text/plain": [
       "'     IQra'"
      ]
     },
     "metadata": {},
     "output_type": "display_data"
    },
    {
     "data": {
      "text/plain": [
       "'     IQ  ra'"
      ]
     },
     "metadata": {},
     "output_type": "display_data"
    }
   ],
   "source": [
    "name : str =\"     IQra      \"\n",
    "display(name)\n",
    "display(name.lstrip())\n",
    "display(name.rstrip())\n",
    "name : str =\"     IQ  ra      \"\n",
    "display(name.rstrip())\n"
   ]
  },
  {
   "cell_type": "markdown",
   "metadata": {},
   "source": [
    "# regular expression import to avoid center spaces like iq ra spa between these two\n",
    "* sub() strip() both also use\n",
    "\n"
   ]
  },
  {
   "cell_type": "code",
   "execution_count": 41,
   "metadata": {},
   "outputs": [
    {
     "data": {
      "text/plain": [
       "'   iqra  saleem    '"
      ]
     },
     "metadata": {},
     "output_type": "display_data"
    },
    {
     "data": {
      "text/plain": [
       "'iqra saleem'"
      ]
     },
     "metadata": {},
     "output_type": "display_data"
    }
   ],
   "source": [
    "import re\n",
    "name : str = \"   iqra  saleem    \"\n",
    "display(name)\n",
    "name1 : str = re.sub(' {2,100}',' ',name).strip()\n",
    "display(name1)"
   ]
  },
  {
   "cell_type": "code",
   "execution_count": 42,
   "metadata": {},
   "outputs": [
    {
     "name": "stdout",
     "output_type": "stream",
     "text": [
      "Iqra\n"
     ]
    }
   ],
   "source": [
    "name : str =\"iQra\"\n",
    "print(name.title())"
   ]
  },
  {
   "cell_type": "code",
   "execution_count": 43,
   "metadata": {},
   "outputs": [
    {
     "name": "stdout",
     "output_type": "stream",
     "text": [
      "iqra saleem\n"
     ]
    }
   ],
   "source": [
    "# use of f-string\n",
    "first_name : str  = \"iqra\"\n",
    "last_name : str  = \"saleem\"\n",
    "full_name: str = f\"{first_name} {last_name}\"\n",
    "print(full_name)\n",
    "\n"
   ]
  },
  {
   "cell_type": "code",
   "execution_count": 46,
   "metadata": {},
   "outputs": [
    {
     "name": "stdout",
     "output_type": "stream",
     "text": [
      "iqra : \t\t saleem\n",
      "iqra :\n",
      "saleem\n",
      "iqra saleem\n"
     ]
    }
   ],
   "source": [
    "# white space character\n",
    " # \\n \\t \\b=backspace for delete   \\t\\t=tab extra space\n",
    "print(\"iqra : \\t\\t saleem\")\n",
    "print(\"iqra :\\nsaleem\")\n",
    "print(\"iqra :\\bsaleem\")"
   ]
  },
  {
   "cell_type": "code",
   "execution_count": null,
   "metadata": {},
   "outputs": [],
   "source": [
    "nostrach_url : str = \"https://nostrach.com\"\n",
    "nostrach_url.removeprefix(\"https://\")"
   ]
  }
 ],
 "metadata": {
  "kernelspec": {
   "display_name": "pythonabc",
   "language": "python",
   "name": "python3"
  },
  "language_info": {
   "codemirror_mode": {
    "name": "ipython",
    "version": 3
   },
   "file_extension": ".py",
   "mimetype": "text/x-python",
   "name": "python",
   "nbconvert_exporter": "python",
   "pygments_lexer": "ipython3",
   "version": "3.12.0"
  }
 },
 "nbformat": 4,
 "nbformat_minor": 2
}
