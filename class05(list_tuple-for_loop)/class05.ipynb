{
 "cells": [
  {
   "cell_type": "code",
   "execution_count": null,
   "metadata": {},
   "outputs": [],
   "source": []
  },
  {
   "cell_type": "markdown",
   "metadata": {},
   "source": [
    "# LIST\n",
    "* iteration operation with loop\n",
    "* apply any operatuion on element"
   ]
  },
  {
   "cell_type": "code",
   "execution_count": null,
   "metadata": {},
   "outputs": [
    {
     "name": "stdout",
     "output_type": "stream",
     "text": [
      "['Sir Zia', 'Muhammad Qasim', 'DR Noman']\n"
     ]
    },
    {
     "name": "stdout",
     "output_type": "stream",
     "text": [
      "['Sir Zia', 'Muhammad Qasim', 'DR Noman']\n"
     ]
    }
   ],
   "source": [
    "names : list[str] = ['Sir Zia',\"Muhammad Qasim\",\"DR Noman\"]\n",
    "print(names)"
   ]
  },
  {
   "cell_type": "code",
   "execution_count": null,
   "metadata": {},
   "outputs": [
    {
     "name": "stdout",
     "output_type": "stream",
     "text": [
      "Sir Zia\n",
      "Muhammad Qasim\n",
      "DR Noman\n"
     ]
    }
   ],
   "source": [
    "# how to perform iteration let see here for k loop sy iteration perform krwa sktay \n",
    "# hai chahay wo tupple ho dictionary ho string ho hm iteration k liyay for loop use krtay hai\n",
    "# syntax for name in names   hm ny jo name yaha single lena hai is ki jagah hm koee b name use\n",
    "# krsktay hai yeah local variable hai yani is ka scope sirf is block k andr istamal hoga\n",
    "names:list[str] = ['Sir Zia', \"Muhammad Qasim\", \"DR Noman\"]\n",
    "\n",
    "for name in names:\n",
    "    print(name)\n",
    "\n",
    "# Sir zia\n",
    "# \"Muhammad Qasim\"\n",
    "# DR Noman"
   ]
  },
  {
   "cell_type": "code",
   "execution_count": null,
   "metadata": {},
   "outputs": [
    {
     "name": "stdout",
     "output_type": "stream",
     "text": [
      "Sir Zia\n",
      "Muhammad Qasim\n",
      "DR Noman\n"
     ]
    }
   ],
   "source": [
    "names:list[str] = ['Sir Zia', \"Muhammad Qasim\", \"DR Noman\"]\n",
    "\n",
    "for name in names:  #colon represent its body or isay 4 spaces agay lay jata hai\n",
    "    print(name)\n",
    "\n",
    "# Sir zia\n",
    "# \"Muhammad Qasim\"\n",
    "# DR Noman"
   ]
  },
  {
   "cell_type": "code",
   "execution_count": null,
   "metadata": {},
   "outputs": [
    {
     "name": "stdout",
     "output_type": "stream",
     "text": [
      "Welcome Dear Teachers Sir Zia\n",
      "Welcome Dear Teachers Muhammad Qasim\n",
      "Welcome Dear Teachers DR Noman\n"
     ]
    }
   ],
   "source": [
    "names:list[str] = ['Sir Zia', \"Muhammad Qasim\", \"DR Noman\"]\n",
    "\n",
    "for name in names:  \n",
    "    print(f'Welcome Dear Teachers {name}')\n"
   ]
  },
  {
   "cell_type": "code",
   "execution_count": null,
   "metadata": {},
   "outputs": [
    {
     "name": "stdout",
     "output_type": "stream",
     "text": [
      "Welcome Dear Teachers Sir Zia\n",
      "Welcome Dear Teachers Muhammad Qasim\n",
      "Welcome Dear Teachers Dr Noman\n"
     ]
    }
   ],
   "source": [
    "names:list[str] = ['Sir Zia', \"muhammad Qasim\", \"dR Noman\"]\n",
    "\n",
    "for name in names:  \n",
    "    print(f'Welcome Dear Teachers {name.title()}') # hm chatay hai k names capital mein  \n",
    "    # print ho to hm ny title ka function use kiya jo string ka method hai or string pr use ho skta hai\n",
    "    "
   ]
  },
  {
   "cell_type": "code",
   "execution_count": null,
   "metadata": {},
   "outputs": [
    {
     "data": {
      "text/plain": [
       "['capitalize',\n",
       " 'casefold',\n",
       " 'center',\n",
       " 'count',\n",
       " 'encode',\n",
       " 'endswith',\n",
       " 'expandtabs',\n",
       " 'find',\n",
       " 'format',\n",
       " 'format_map',\n",
       " 'index',\n",
       " 'isalnum',\n",
       " 'isalpha',\n",
       " 'isascii',\n",
       " 'isdecimal',\n",
       " 'isdigit',\n",
       " 'isidentifier',\n",
       " 'islower',\n",
       " 'isnumeric',\n",
       " 'isprintable',\n",
       " 'isspace',\n",
       " 'istitle',\n",
       " 'isupper',\n",
       " 'join',\n",
       " 'ljust',\n",
       " 'lower',\n",
       " 'lstrip',\n",
       " 'maketrans',\n",
       " 'partition',\n",
       " 'removeprefix',\n",
       " 'removesuffix',\n",
       " 'replace',\n",
       " 'rfind',\n",
       " 'rindex',\n",
       " 'rjust',\n",
       " 'rpartition',\n",
       " 'rsplit',\n",
       " 'rstrip',\n",
       " 'split',\n",
       " 'splitlines',\n",
       " 'startswith',\n",
       " 'strip',\n",
       " 'swapcase',\n",
       " 'title',\n",
       " 'translate',\n",
       " 'upper',\n",
       " 'zfill']"
      ]
     },
     "execution_count": 6,
     "metadata": {},
     "output_type": "execute_result"
    }
   ],
   "source": [
    "[i for i in dir(str) if \"__\" not in i]"
   ]
  },
  {
   "cell_type": "code",
   "execution_count": null,
   "metadata": {},
   "outputs": [
    {
     "name": "stdout",
     "output_type": "stream",
     "text": [
      "Welcome Dear Tacher Sir Zia\n",
      "PIAIC Gen AI Team\n",
      "\n",
      "Welcome Dear Tacher Muhammad Qasim\n",
      "PIAIC Gen AI Team\n",
      "\n",
      "Welcome Dear Tacher Dr Noman\n",
      "PIAIC Gen AI Team\n",
      "\n"
     ]
    }
   ],
   "source": [
    "names:list[str] = ['Sir Zia', \"Muhammad Qasim\", \"DR Noman\"]\n",
    "\n",
    "for name in names:\n",
    "    print(f'Welcome Dear Tacher {name.title()}') # q k hm ny neechay wali line 4 space k saath hi\n",
    "    # dali hai to yeah body ka part ho gi to yeah code opr jo hm ny logic bnai hai us k sath chlay ga\n",
    "    print(\"PIAIC Gen AI Team\\n\")"
   ]
  },
  {
   "cell_type": "code",
   "execution_count": null,
   "metadata": {},
   "outputs": [
    {
     "name": "stdout",
     "output_type": "stream",
     "text": [
      "Welcome Dear Tacher Sir Zia\n",
      "PIAIC Gen AI Team\n",
      "\n",
      "Welcome Dear Tacher Muhammad Qasim\n",
      "PIAIC Gen AI Team\n",
      "\n",
      "Welcome Dear Tacher Dr Noman\n",
      "PIAIC Gen AI Team\n",
      "\n"
     ]
    }
   ],
   "source": [
    "names:list[str] = ['Sir Zia', \"Muhammad Qasim\", \"DR Noman\"]\n",
    "\n",
    "for name in names:\n",
    "    print(f'Welcome Dear Tacher {name.title()}') \n",
    "    print(\"PIAIC Gen AI Team\\n\")"
   ]
  },
  {
   "cell_type": "code",
   "execution_count": null,
   "metadata": {},
   "outputs": [
    {
     "name": "stdout",
     "output_type": "stream",
     "text": [
      "Welcome Dear Tacher Sir Zia\n",
      "PIAIC Gen AI Team\n",
      "\n",
      "Welcome Dear Tacher Muhammad Qasim\n",
      "PIAIC Gen AI Team\n",
      "\n",
      "Welcome Dear Tacher Dr Noman\n",
      "PIAIC Gen AI Team\n",
      "\n",
      "Pakistan zinda bad\n"
     ]
    }
   ],
   "source": [
    "names:list[str] = ['Sir Zia', \"Muhammad Qasim\", \"DR Noman\"]\n",
    "\n",
    "for name in names:\n",
    "    print(f'Welcome Dear Tacher {name.title()}')\n",
    "    print(\"PIAIC Gen AI Team\\n\") \n",
    "\n",
    "print(\"Pakistan zinda bad\") # ab hm ny indendation like body sy bahir likha hai to yeah hr iteratio\n",
    "# mein perform nhi hoga"
   ]
  },
  {
   "cell_type": "code",
   "execution_count": null,
   "metadata": {},
   "outputs": [
    {
     "name": "stdout",
     "output_type": "stream",
     "text": [
      "Welcome Dear Tacher Sir Zia\n",
      "PIAIC Gen AI Team\n",
      "\n",
      "Welcome Dear Tacher Muhammad Qasim\n",
      "PIAIC Gen AI Team\n",
      "\n",
      "Pakistan zinda bad\n"
     ]
    }
   ],
   "source": [
    "names:list[str] = ['Sir Zia', \"Muhammad Qasim\", \"DR Noman\"]\n",
    "\n",
    "for name in names[:2]:\n",
    "    print(f'Welcome Dear Tacher {name.title()}')\n",
    "    print(\"PIAIC Gen AI Team\\n\")\n",
    "\n",
    "print(\"Pakistan zinda bad\")"
   ]
  },
  {
   "cell_type": "code",
   "execution_count": null,
   "metadata": {},
   "outputs": [
    {
     "name": "stdout",
     "output_type": "stream",
     "text": [
      "Welcome Dear Tacher Sir Zia\n",
      "PIAIC Gen AI Team\n",
      "\n",
      "Pakistan zinda bad\n"
     ]
    }
   ],
   "source": [
    "names:list[str] = ['Sir Zia', \"Muhammad Qasim\", \"DR Noman\"]\n",
    "\n",
    "for name in names[:-2]:\n",
    "    print(f'Welcome Dear Tacher {name.title()}')\n",
    "    print(\"PIAIC Gen AI Team\\n\")\n",
    "\n",
    "print(\"Pakistan zinda bad\")"
   ]
  },
  {
   "cell_type": "code",
   "execution_count": null,
   "metadata": {},
   "outputs": [
    {
     "name": "stdout",
     "output_type": "stream",
     "text": [
      "Welcome Dear Tacher DR NOMAN\n",
      "PIAIC Gen AI Team\n",
      "\n",
      "Welcome Dear Tacher MUHAMMAD QASIM\n",
      "PIAIC Gen AI Team\n",
      "\n",
      "Welcome Dear Tacher SIR ZIA\n",
      "PIAIC Gen AI Team\n",
      "\n",
      "Pakistan zinda bad\n",
      "\n"
     ]
    }
   ],
   "source": [
    "names:list[str] = ['Sir Zia', \"Muhammad Qasim\", \"DR Noman\"]\n",
    "\n",
    "for name in names[::-1]:\n",
    "    print(f'Welcome Dear Tacher {name.upper()}')\n",
    "    print(\"PIAIC Gen AI Team\\n\")\n",
    "print(\"Pakistan zinda bad\\n\")"
   ]
  },
  {
   "cell_type": "code",
   "execution_count": null,
   "metadata": {},
   "outputs": [
    {
     "name": "stdout",
     "output_type": "stream",
     "text": [
      "('sirzia', '123')\n",
      "('sirqasim', '456')\n",
      "('sirhassan', '4556')\n"
     ]
    }
   ],
   "source": [
    "# ab hm aik data base bnatay hai\n",
    "data_bade : tuple[str,str] = [(\"sirzia\",\"123\"),\n",
    "                              (\"sirqasim\",\"456\"), \n",
    "                               (\"sirhassan\",\"4556\"),                       \n",
    "                             ]\n",
    "for name in data_bade:\n",
    "    print(name)"
   ]
  },
  {
   "cell_type": "code",
   "execution_count": null,
   "metadata": {},
   "outputs": [
    {
     "name": "stdout",
     "output_type": "stream",
     "text": [
      "qasim 123\n",
      "sirzia 345\n",
      "ikhlas 789\n"
     ]
    }
   ],
   "source": [
    "data_base : list[tuple[str,str]] = [(\"qasim\",'123'),\n",
    "                                    (\"sirzia\",'345'),\n",
    "                                    ('ikhlas','789')\n",
    "                                    ]\n",
    "\n",
    "# ab hm unzip krna seekhay gay ab hr aik element database sy nikl kr pehly user mein or phir \n",
    "# password mein ja kr name mein store hoga or phir hm ny local variable yani name mein store kradiya opper wala same anwer \n",
    "# tupple mein aya tha ab aik aik value ayay gi\n",
    "for name in data_base:\n",
    "    user, password = name\n",
    "    print(user, password)"
   ]
  },
  {
   "cell_type": "code",
   "execution_count": null,
   "metadata": {},
   "outputs": [
    {
     "name": "stdout",
     "output_type": "stream",
     "text": [
      "iqra saleem\n"
     ]
    }
   ],
   "source": [
    "input_user : str = input(\"Enter user name\")\n",
    "print(input_user)"
   ]
  },
  {
   "cell_type": "code",
   "execution_count": 4,
   "metadata": {},
   "outputs": [
    {
     "name": "stdout",
     "output_type": "stream",
     "text": [
      "Valid User qasim\n"
     ]
    }
   ],
   "source": [
    "data_base : list[tuple[str,str]] = [(\"qasim\",'123'),\n",
    "                                    (\"sirzia\",'345'),\n",
    "                                    ('ikhlas','789')\n",
    "                                    ]\n",
    "input_user : str = input(\"Enter user name\") # yeag user sy runtime py input leta hai\n",
    "input_password : str = input(\"Enter user password\")\n",
    "\n",
    "\n",
    "\n",
    "for row in data_base:\n",
    "    user, password = row\n",
    "    if input_user == user and input_password == password: # input kiya hai user ka name woh ayay \n",
    "        # jo databse ka user name hai or input kiya hai passwor d woh ayay jo database ka password hai\n",
    "        print(f\"Valid User {user}\")\n",
    "        break # means ruk jao\n",
    "else:\n",
    "    print(\"Not found or Invalid user name\")"
   ]
  },
  {
   "cell_type": "code",
   "execution_count": 5,
   "metadata": {},
   "outputs": [
    {
     "name": "stdout",
     "output_type": "stream",
     "text": [
      "Not found or Invalid user name\n"
     ]
    }
   ],
   "source": [
    "data_base : list[tuple[str,str]] = [(\"qasim\",'123'),\n",
    "                                    (\"sirzia\",'345'),\n",
    "                                    ('ikhlas','789')\n",
    "                                    ]\n",
    "input_user : str = input(\"Enter user name\") # yeag user sy runtime py input leta hai\n",
    "input_password : str = input(\"Enter user password\")\n",
    "\n",
    "\n",
    "# authentication system\n",
    "for row in data_base:\n",
    "    user, password = row\n",
    "    if input_user == user and input_password == password: # input kiya hai user ka name woh ayay \n",
    "        # jo databse ka user name hai or input kiya hai passwor d woh ayay jo database ka password hai\n",
    "        print(f\"Valid User {user}\")\n",
    "        break # means ruk jao\n",
    "else:\n",
    "    print(\"Not found or Invalid user name\")"
   ]
  },
  {
   "cell_type": "code",
   "execution_count": 6,
   "metadata": {},
   "outputs": [
    {
     "ename": "IndentationError",
     "evalue": "expected an indented block after 'for' statement on line 3 (2614519669.py, line 4)",
     "output_type": "error",
     "traceback": [
      "\u001b[1;36m  Cell \u001b[1;32mIn[6], line 4\u001b[1;36m\u001b[0m\n\u001b[1;33m    print(name)\u001b[0m\n\u001b[1;37m    ^\u001b[0m\n\u001b[1;31mIndentationError\u001b[0m\u001b[1;31m:\u001b[0m expected an indented block after 'for' statement on line 3\n"
     ]
    }
   ],
   "source": [
    "names:list[str] = ['Sir Zia', \"Muhammad Qasim\", \"DR Noman\"]\n",
    "\n",
    "for name in names:\n",
    "print(name)"
   ]
  },
  {
   "cell_type": "code",
   "execution_count": 7,
   "metadata": {},
   "outputs": [
    {
     "ename": "SyntaxError",
     "evalue": "expected ':' (1472454235.py, line 3)",
     "output_type": "error",
     "traceback": [
      "\u001b[1;36m  Cell \u001b[1;32mIn[7], line 3\u001b[1;36m\u001b[0m\n\u001b[1;33m    for name in names\u001b[0m\n\u001b[1;37m                     ^\u001b[0m\n\u001b[1;31mSyntaxError\u001b[0m\u001b[1;31m:\u001b[0m expected ':'\n"
     ]
    }
   ],
   "source": [
    "names:list[str] = ['Sir Zia', \"Muhammad Qasim\", \"DR Noman\"]\n",
    "\n",
    "for name in names # colon missing\n",
    "    print(name)"
   ]
  },
  {
   "cell_type": "code",
   "execution_count": 8,
   "metadata": {},
   "outputs": [
    {
     "name": "stdout",
     "output_type": "stream",
     "text": [
      "Alice, that was a great trick!\n",
      "David, that was a great trick!\n",
      "Carolina, that was a great trick!\n",
      "I can't wait to see your next trick, Carolina.\n",
      "\n"
     ]
    }
   ],
   "source": [
    "magicians: list[str] = ['alice', 'david', 'carolina']\n",
    "for magician in magicians:\n",
    "    print(f\"{magician.title()}, that was a great trick!\")\n",
    "    \n",
    "\n",
    "print(f\"I can't wait to see your next trick, {magician.title()}.\\n\")"
   ]
  },
  {
   "cell_type": "markdown",
   "metadata": {},
   "source": [
    "# Numbers with loop"
   ]
  }
 ],
 "metadata": {
  "kernelspec": {
   "display_name": "pythonabc",
   "language": "python",
   "name": "python3"
  },
  "language_info": {
   "codemirror_mode": {
    "name": "ipython",
    "version": 3
   },
   "file_extension": ".py",
   "mimetype": "text/x-python",
   "name": "python",
   "nbconvert_exporter": "python",
   "pygments_lexer": "ipython3",
   "version": "3.12.0"
  }
 },
 "nbformat": 4,
 "nbformat_minor": 2
}
