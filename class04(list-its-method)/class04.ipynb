{
 "cells": [
  {
   "cell_type": "markdown",
   "metadata": {},
   "source": [
    "# LIST\n",
    " * why we use list to add multiple values we can store multiple values in single \n",
    " * variable we write variable in in plurals list has dynamic length it has \n",
    " * hatrogenous data means multipl types it has index feature there are two \n",
    " * positve indexing start from 0 and negative indexing start from -1"
   ]
  },
  {
   "cell_type": "code",
   "execution_count": 23,
   "metadata": {},
   "outputs": [
    {
     "name": "stdout",
     "output_type": "stream",
     "text": [
      "iqra\n",
      "iqra\n",
      "arooj\n"
     ]
    }
   ],
   "source": [
    "# old way\n",
    "#  ->                   1          2       3    4\n",
    "names : list[str] = [\"iqra\", \"arooj\" , \"irshad\" , \"zaini\"]\n",
    "#   <-                    -4        -3      -2     -1\n",
    "print(names[0])\n",
    "print(names[-4])\n",
    "print(names[-3])\n"
   ]
  },
  {
   "cell_type": "code",
   "execution_count": 24,
   "metadata": {},
   "outputs": [
    {
     "name": "stdout",
     "output_type": "stream",
     "text": [
      "<class 'list'>\n",
      "<class 'str'>\n",
      " Founder of Piaic irshad\n",
      " Founder of Piaic IRSHAD\n"
     ]
    }
   ],
   "source": [
    "# new way\n",
    "from typing import Any\n",
    "names : list[Any] = [\"iqra\", \"arooj\" , \"irshad\" ,78]\n",
    "print(type(names))\n",
    "print(type(names[-2]))\n",
    "print( f' Founder of Piaic {names[-2]}')\n",
    "print( f' Founder of Piaic {names[-2].upper()}')"
   ]
  },
  {
   "cell_type": "markdown",
   "metadata": {},
   "source": [
    "* slicing\n",
    "* we put variables\n",
    "* start : int = include\n",
    "* end  : int = n-1\n",
    "* step :int =sequence\n"
   ]
  },
  {
   "cell_type": "code",
   "execution_count": 25,
   "metadata": {},
   "outputs": [
    {
     "name": "stdout",
     "output_type": "stream",
     "text": [
      "['A', 'B', 'C', 'D', 'E', 'F', 'G', 'H', 'I', 'J', 'K', 'L', 'M', 'N', 'O', 'P', 'Q', 'R', 'S', 'T', 'U', 'V', 'W', 'X', 'Y', 'Z']\n"
     ]
    }
   ],
   "source": [
    "characters : list[str] = list(\"ABCDEFGHIJKLMNOPQRSTUVWXYZ\")\n",
    "print(characters)"
   ]
  },
  {
   "cell_type": "code",
   "execution_count": 26,
   "metadata": {},
   "outputs": [
    {
     "name": "stdout",
     "output_type": "stream",
     "text": [
      "abscdd\n"
     ]
    }
   ],
   "source": [
    "\"abscdd\"\n",
    "print(\"abscdd\")"
   ]
  },
  {
   "cell_type": "code",
   "execution_count": 27,
   "metadata": {},
   "outputs": [
    {
     "name": "stdout",
     "output_type": "stream",
     "text": [
      "['A', 'B']\n",
      "['A', 'B']\n",
      "['A', 'B']\n",
      "['A', 'B']\n",
      "['A', 'B']\n"
     ]
    }
   ],
   "source": [
    "# -> \n",
    "#                      0    1     2                                                                                                              n-1 26-1=25\n",
    "characters:list[str]=['A', 'B', 'C', 'D', 'E', 'F', 'G', 'H', 'I', 'J', 'K', 'L', 'M', 'N', 'O', 'P', 'Q', 'R', 'S', 'T', 'U', 'V', 'W', 'X', 'Y', 'Z']\n",
    "# ->                  -26   -25   -24                                                                                                                -1       \n",
    "\n",
    "# same method to get one thing you can opt any one them\n",
    "print(characters[0:2])  # 0 include 2 exclude like 2-1 index-1\n",
    "print(characters[:2])  # All\n",
    "# default slicing left to right \n",
    "print(characters[-26:-24])  # index -1 , -24-1 =-25 =A,B\n",
    "print(characters[0:2:1])\n",
    "print(characters[0:2:])"
   ]
  },
  {
   "cell_type": "code",
   "execution_count": 28,
   "metadata": {},
   "outputs": [
    {
     "name": "stdout",
     "output_type": "stream",
     "text": [
      "['A', 'B', 'C', 'D', 'E', 'F', 'G', 'H', 'I', 'J', 'K', 'L', 'M', 'N', 'O', 'P', 'Q', 'R', 'S', 'T', 'U', 'V', 'W', 'X', 'Y', 'Z']\n",
      "['A', 'C', 'E', 'G', 'I', 'K', 'M', 'O', 'Q', 'S', 'U', 'W', 'Y']\n",
      "['Z', 'Y', 'X', 'W', 'V', 'U', 'T', 'S', 'R', 'Q', 'P', 'O', 'N', 'M', 'L', 'K', 'J', 'I', 'H', 'G', 'F', 'E', 'D', 'C', 'B', 'A']\n",
      "['B', 'C', 'D', 'E', 'F', 'G', 'H', 'I', 'J', 'K', 'L', 'M', 'N', 'O', 'P', 'Q', 'R', 'S', 'T', 'U', 'V', 'W']\n",
      "[]\n",
      "['Y', 'X', 'W']\n"
     ]
    }
   ],
   "source": [
    "characters:list[str]=['A', 'B', 'C', 'D', 'E', 'F', 'G', 'H', 'I', 'J', 'K', 'L', 'M', 'N', 'O', 'P', 'Q', 'R', 'S', 'T', 'U', 'V', 'W', 'X', 'Y', 'Z']\n",
    "print(characters[: :] )\n",
    "print(characters[: : 2] )\n",
    "print(characters[: : -1] )\n",
    "print(characters[1 : -3] )\n",
    "print(characters[-1 : -5] )\n",
    "print(characters[-2 : -5 : -1] )"
   ]
  },
  {
   "cell_type": "markdown",
   "metadata": {},
   "source": [
    "# list method"
   ]
  },
  {
   "cell_type": "code",
   "execution_count": 29,
   "metadata": {},
   "outputs": [
    {
     "name": "stdout",
     "output_type": "stream",
     "text": [
      "['zahra', 'iqra', 'mona']\n",
      "['zahra', 'arooj', 'mona']\n"
     ]
    }
   ],
   "source": [
    "names : list[str] = [\"zahra\" , \"iqra\" ,\"mona\"]\n",
    "print(names)\n",
    "names[1]=\"arooj\"\n",
    "print(names)"
   ]
  },
  {
   "cell_type": "code",
   "execution_count": 30,
   "metadata": {},
   "outputs": [
    {
     "name": "stdout",
     "output_type": "stream",
     "text": [
      "['zahra', 'iqra', 'mona']\n",
      "['zahra', 'iqra']\n"
     ]
    }
   ],
   "source": [
    "names : list[str] = [\"zahra\" , \"iqra\" ,\"mona\"]\n",
    "print(names)\n",
    "del names[2] # delete ka variable koee value return nhi krta like kahi bi store nhi hota del ho k\n",
    "print(names)"
   ]
  },
  {
   "cell_type": "code",
   "execution_count": 31,
   "metadata": {},
   "outputs": [
    {
     "name": "stdout",
     "output_type": "stream",
     "text": [
      "pakistan\n"
     ]
    },
    {
     "data": {
      "text/plain": [
       "None"
      ]
     },
     "metadata": {},
     "output_type": "display_data"
    }
   ],
   "source": [
    "a : str = print(\"pakistan\") # non-return function\n",
    "display(a)"
   ]
  },
  {
   "cell_type": "code",
   "execution_count": 32,
   "metadata": {},
   "outputs": [
    {
     "data": {
      "text/plain": [
       "2580059694464"
      ]
     },
     "metadata": {},
     "output_type": "display_data"
    }
   ],
   "source": [
    "# return function jis ko hm kisi b variable mein store kra sktay hai\n",
    "a : str = id(names)  # non-return function\n",
    "display(a)"
   ]
  },
  {
   "cell_type": "markdown",
   "metadata": {},
   "source": [
    "# HELP\n",
    "* help(object)\n",
    "* object?\n",
    "* object??\n",
    "* ?object\n",
    "*??object\n",
    "\n"
   ]
  },
  {
   "cell_type": "code",
   "execution_count": 33,
   "metadata": {},
   "outputs": [
    {
     "name": "stdout",
     "output_type": "stream",
     "text": [
      "Help on built-in function print in module builtins:\n",
      "\n",
      "print(*args, sep=' ', end='\\n', file=None, flush=False)\n",
      "    Prints the values to a stream, or to sys.stdout by default.\n",
      "\n",
      "    sep\n",
      "      string inserted between values, default a space.\n",
      "    end\n",
      "      string appended after the last value, default a newline.\n",
      "    file\n",
      "      a file-like object (stream); defaults to the current sys.stdout.\n",
      "    flush\n",
      "      whether to forcibly flush the stream.\n",
      "\n"
     ]
    }
   ],
   "source": [
    "help(print)"
   ]
  },
  {
   "cell_type": "code",
   "execution_count": 34,
   "metadata": {},
   "outputs": [
    {
     "name": "stdout",
     "output_type": "stream",
     "text": [
      "\u001b[1;31mSignature:\u001b[0m \u001b[0mprint\u001b[0m\u001b[1;33m(\u001b[0m\u001b[1;33m*\u001b[0m\u001b[0margs\u001b[0m\u001b[1;33m,\u001b[0m \u001b[0msep\u001b[0m\u001b[1;33m=\u001b[0m\u001b[1;34m' '\u001b[0m\u001b[1;33m,\u001b[0m \u001b[0mend\u001b[0m\u001b[1;33m=\u001b[0m\u001b[1;34m'\\n'\u001b[0m\u001b[1;33m,\u001b[0m \u001b[0mfile\u001b[0m\u001b[1;33m=\u001b[0m\u001b[1;32mNone\u001b[0m\u001b[1;33m,\u001b[0m \u001b[0mflush\u001b[0m\u001b[1;33m=\u001b[0m\u001b[1;32mFalse\u001b[0m\u001b[1;33m)\u001b[0m\u001b[1;33m\u001b[0m\u001b[1;33m\u001b[0m\u001b[0m\n",
      "\u001b[1;31mDocstring:\u001b[0m\n",
      "Prints the values to a stream, or to sys.stdout by default.\n",
      "\n",
      "sep\n",
      "  string inserted between values, default a space.\n",
      "end\n",
      "  string appended after the last value, default a newline.\n",
      "file\n",
      "  a file-like object (stream); defaults to the current sys.stdout.\n",
      "flush\n",
      "  whether to forcibly flush the stream.\n",
      "\u001b[1;31mType:\u001b[0m      builtin_function_or_method"
     ]
    }
   ],
   "source": [
    "print?"
   ]
  },
  {
   "cell_type": "code",
   "execution_count": 35,
   "metadata": {},
   "outputs": [
    {
     "data": {
      "text/plain": [
       "['append',\n",
       " 'clear',\n",
       " 'copy',\n",
       " 'count',\n",
       " 'extend',\n",
       " 'index',\n",
       " 'insert',\n",
       " 'pop',\n",
       " 'remove',\n",
       " 'reverse',\n",
       " 'sort']"
      ]
     },
     "execution_count": 35,
     "metadata": {},
     "output_type": "execute_result"
    }
   ],
   "source": [
    "[i for i in dir(list) if \"_\" not in i]"
   ]
  },
  {
   "cell_type": "code",
   "execution_count": 36,
   "metadata": {},
   "outputs": [
    {
     "name": "stdout",
     "output_type": "stream",
     "text": [
      "['iqra', 'arooj', 'areej', 2, 9.0]\n",
      "9.0\n"
     ]
    }
   ],
   "source": [
    "names : list[Any] =[\"iqra\" ,\"arooj\" ,\"areej\", 2 ,9.0] \n",
    "print(names)\n",
    "a : str = names.pop() # pop remove the last element pop is return meyhod  best ex to do\n",
    "print(a)"
   ]
  },
  {
   "cell_type": "code",
   "execution_count": 37,
   "metadata": {},
   "outputs": [
    {
     "name": "stdout",
     "output_type": "stream",
     "text": [
      "pakistan zindabad\n",
      "None\n"
     ]
    }
   ],
   "source": [
    "print(print(\"pakistan zindabad\")) # print is non-return function"
   ]
  },
  {
   "cell_type": "code",
   "execution_count": 38,
   "metadata": {},
   "outputs": [
    {
     "name": "stdout",
     "output_type": "stream",
     "text": [
      "['iqra', 'arooj', 'areej', 2, 9.0]\n",
      "iqra\n",
      "['arooj', 'areej', 2, 9.0]\n"
     ]
    }
   ],
   "source": [
    "names : list[Any] =[\"iqra\" ,\"arooj\" ,\"areej\", 2 ,9.0] \n",
    "print(names)\n",
    "a : str = names.pop(0) # pop remove the last element pop is return meyhod  best ex to do\n",
    "print(a)\n",
    "print(names)"
   ]
  },
  {
   "cell_type": "code",
   "execution_count": 41,
   "metadata": {},
   "outputs": [
    {
     "name": "stdout",
     "output_type": "stream",
     "text": [
      "[]\n",
      "['sir zia', 'sir Qasim']\n"
     ]
    }
   ],
   "source": [
    "names : str = []\n",
    "print(names)\n",
    "names.append(\"sir zia\") # add element at last \n",
    "names.append(\"sir Qasim\") # add element at last \n",
    "print(names)"
   ]
  },
  {
   "cell_type": "code",
   "execution_count": 42,
   "metadata": {},
   "outputs": [
    {
     "name": "stdout",
     "output_type": "stream",
     "text": [
      "['a', 'g', 'b', 'c', 'd']\n"
     ]
    }
   ],
   "source": [
    "names : list[str] = [\"a\",\"b\",\"c\",\"d\"]\n",
    "names.insert(1,\"g\") # 1 index pr g add kro insert means on particular position\n",
    "print(names)"
   ]
  },
  {
   "cell_type": "code",
   "execution_count": 43,
   "metadata": {},
   "outputs": [
    {
     "ename": "NameError",
     "evalue": "name 'names' is not defined",
     "output_type": "error",
     "traceback": [
      "\u001b[1;31m---------------------------------------------------------------------------\u001b[0m",
      "\u001b[1;31mNameError\u001b[0m                                 Traceback (most recent call last)",
      "Cell \u001b[1;32mIn[43], line 3\u001b[0m\n\u001b[0;32m      1\u001b[0m names : \u001b[38;5;28mlist\u001b[39m[\u001b[38;5;28mint\u001b[39m] \u001b[38;5;241m=\u001b[39m [\u001b[38;5;241m1\u001b[39m,\u001b[38;5;241m2\u001b[39m,\u001b[38;5;241m3\u001b[39m]\n\u001b[0;32m      2\u001b[0m \u001b[38;5;28;01mdel\u001b[39;00m names\n\u001b[1;32m----> 3\u001b[0m \u001b[38;5;28mprint\u001b[39m(\u001b[43mnames\u001b[49m)\n",
      "\u001b[1;31mNameError\u001b[0m: name 'names' is not defined"
     ]
    }
   ],
   "source": [
    "names : list[int] = [1,2,3]\n",
    "del names # remove object\n",
    "print(names)"
   ]
  },
  {
   "cell_type": "code",
   "execution_count": 45,
   "metadata": {},
   "outputs": [
    {
     "name": "stdout",
     "output_type": "stream",
     "text": [
      "[]\n"
     ]
    }
   ],
   "source": [
    "names : list[int] = [1,2,3]\n",
    "names.clear() # remove value\n",
    "print(names)"
   ]
  },
  {
   "cell_type": "code",
   "execution_count": 46,
   "metadata": {},
   "outputs": [
    {
     "name": "stdout",
     "output_type": "stream",
     "text": [
      "['a', 'b', 'c']\n",
      "['a', 'b', 'c']\n"
     ]
    }
   ],
   "source": [
    "a : list[str] = ['a','b','c']  # old way\n",
    "b = a #shallow copy problem update dono mein hogya hai\n",
    "print(a)\n",
    "print(b)\n",
    "\n",
    "b[0] = \"pakistan\" # change only b value but both variable update\n",
    "\n",
    "print(a)\n",
    "print(b)\n"
   ]
  },
  {
   "cell_type": "code",
   "execution_count": 47,
   "metadata": {},
   "outputs": [
    {
     "name": "stdout",
     "output_type": "stream",
     "text": [
      "['a', 'b', 'c']\n",
      "['a', 'b', 'c']\n",
      "['a', 'b', 'c']\n",
      "['pakistan', 'b', 'c']\n"
     ]
    }
   ],
   "source": [
    "# oper wali problem sy bchnay k liyay\n",
    "a : list[str] = ['a','b','c']  # old way\n",
    "b = a .copy()   #deep copy ab sirf a ki value update hogi\n",
    "print(a)\n",
    "print(b)\n",
    "\n",
    "b[0] = \"pakistan\" # change only b value but both variable update\n",
    "\n",
    "print(a)\n",
    "print(b)\n"
   ]
  },
  {
   "cell_type": "code",
   "execution_count": 49,
   "metadata": {},
   "outputs": [
    {
     "name": "stdout",
     "output_type": "stream",
     "text": [
      "4\n"
     ]
    }
   ],
   "source": [
    "a : list[str] = ['a','a','a',a,'a','b','c','c']\n",
    "print(a.count(\"a\"))\n"
   ]
  },
  {
   "cell_type": "code",
   "execution_count": 54,
   "metadata": {},
   "outputs": [
    {
     "name": "stdout",
     "output_type": "stream",
     "text": [
      "['iqra', 'arooj', 'areej', ['zara', 'aroosa']]\n"
     ]
    }
   ],
   "source": [
    "staff : list[str] = [\"iqra\" ,\"arooj\" ,\"areej\"] \n",
    "new_faculty : list[str] = [\"zara\" ,\"aroosa\"] \n",
    "staff.append(new_faculty) # drawback new-faculty as a list hi us mein add hoee hai append as it is cheezo ko add krata hai\n",
    "print(staff)"
   ]
  },
  {
   "cell_type": "code",
   "execution_count": 55,
   "metadata": {},
   "outputs": [
    {
     "name": "stdout",
     "output_type": "stream",
     "text": [
      "['iqra', 'arooj', 'areej', 'zara', 'aroosa']\n"
     ]
    }
   ],
   "source": [
    "# oper walay code k drawback sy bchnay k liyay hai extend() use krtaty hai\n",
    "staff : list[str] = [\"iqra\" ,\"arooj\" ,\"areej\"] \n",
    "new_faculty : list[str] = [\"zara\" ,\"aroosa\"] \n",
    "staff.extend(new_faculty) # drawback new-faculty as a list hi us mein add hoee hai append as it is cheezo ko add krata hai\n",
    "print(staff)"
   ]
  },
  {
   "cell_type": "code",
   "execution_count": 56,
   "metadata": {},
   "outputs": [
    {
     "name": "stdout",
     "output_type": "stream",
     "text": [
      "['iqra', 'arooj', 'zara', 'aroosa']\n"
     ]
    }
   ],
   "source": [
    "names : list[str] = ['iqra', 'arooj', 'areej', 'zara', 'aroosa']\n",
    "names.remove(\"areej\") # remove with text value\n",
    "print(names)\n"
   ]
  },
  {
   "cell_type": "code",
   "execution_count": 58,
   "metadata": {},
   "outputs": [
    {
     "data": {
      "text/plain": [
       "2"
      ]
     },
     "execution_count": 58,
     "metadata": {},
     "output_type": "execute_result"
    }
   ],
   "source": [
    "names : list[str] = ['iqra', 'arooj', 'areej', 'zara', 'aroosa']\n",
    "names.index(\"areej\") # remove with text value\n",
    "\n"
   ]
  },
  {
   "cell_type": "code",
   "execution_count": 59,
   "metadata": {},
   "outputs": [
    {
     "data": {
      "text/plain": [
       "2"
      ]
     },
     "execution_count": 59,
     "metadata": {},
     "output_type": "execute_result"
    }
   ],
   "source": [
    "names : list[str] = ['iqra', 'arooj', 'areej', 'zara', 'aroosa' ,\"areej\"]\n",
    "names.index(\"areej\") # remove with text value\n"
   ]
  },
  {
   "cell_type": "code",
   "execution_count": 60,
   "metadata": {},
   "outputs": [
    {
     "name": "stdout",
     "output_type": "stream",
     "text": [
      "['areej', 'aroosa', 'zara', 'areej', 'arooj', 'iqra']\n"
     ]
    }
   ],
   "source": [
    "names : list[str] = ['iqra', 'arooj', 'areej', 'zara', 'aroosa' ,\"areej\"]\n",
    "names.reverse() # in memory change real data\n",
    "print(names)"
   ]
  },
  {
   "cell_type": "code",
   "execution_count": 62,
   "metadata": {},
   "outputs": [
    {
     "name": "stdout",
     "output_type": "stream",
     "text": [
      "['A', 'G', 'E', 'V', 'B']\n",
      "['B', 'V', 'E', 'G', 'A']\n"
     ]
    }
   ],
   "source": [
    "n : list[str] = list(\"AGEVB\")\n",
    "print(n)\n",
    "n.reverse()\n",
    "print(n)"
   ]
  },
  {
   "cell_type": "code",
   "execution_count": 64,
   "metadata": {},
   "outputs": [
    {
     "name": "stdout",
     "output_type": "stream",
     "text": [
      "['A', 'G', 'E', 'V', 'B']\n",
      "['A', 'B', 'E', 'G', 'V']\n"
     ]
    }
   ],
   "source": [
    "# sort ka fuction sort kray ga ascending ordr mein\n",
    "n : list[str] = list(\"AGEVB\")\n",
    "print(n)\n",
    "n.sort()\n",
    "print(n)"
   ]
  },
  {
   "cell_type": "code",
   "execution_count": null,
   "metadata": {},
   "outputs": [],
   "source": [
    "# ab hm descending order mein krna chahtay hai\n",
    "n : list[str] = list(\"AGEVB\")\n",
    "print(n)\n",
    "n.sort(reverse=True)\n",
    "print(n)"
   ]
  }
 ],
 "metadata": {
  "kernelspec": {
   "display_name": "pythonabc",
   "language": "python",
   "name": "python3"
  },
  "language_info": {
   "codemirror_mode": {
    "name": "ipython",
    "version": 3
   },
   "file_extension": ".py",
   "mimetype": "text/x-python",
   "name": "python",
   "nbconvert_exporter": "python",
   "pygments_lexer": "ipython3",
   "version": "3.12.0"
  }
 },
 "nbformat": 4,
 "nbformat_minor": 2
}
