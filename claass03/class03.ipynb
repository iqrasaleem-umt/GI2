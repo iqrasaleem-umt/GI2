{
 "cells": [
  {
   "cell_type": "markdown",
   "metadata": {},
   "source": [
    " # Python divides the operators in the following groups:\n",
    "\n",
    " * Arithmetic operators\n",
    " * Assignment operators\n",
    " * Comparison operators\n",
    " * Logical operators\n",
    " * Identity operators\n",
    " * Membership operators\n",
    " * Bitwise operators"
   ]
  },
  {
   "cell_type": "code",
   "execution_count": null,
   "metadata": {},
   "outputs": [],
   "source": [
    " "
   ]
  },
  {
   "cell_type": "markdown",
   "metadata": {},
   "source": [
    "* arithmetic operators\n",
    " +\tAddition\tx + y\t\n",
    " -\tSubtraction\tx - y\t\n",
    " *\tMultiplication\tx * y\t\n",
    " /\tDivision\tx / y\t\n",
    " %\tModulus\tx % y\t\n",
    " **\tExponentiation\tx ** y\t\n",
    " //\tFloor division\tx // y"
   ]
  },
  {
   "cell_type": "code",
   "execution_count": 1,
   "metadata": {},
   "outputs": [
    {
     "name": "stdout",
     "output_type": "stream",
     "text": [
      "0\n",
      "64\n",
      "4.0\n",
      "4\n"
     ]
    }
   ],
   "source": [
    "a : int = 8\n",
    "b : int = 2\n",
    "\n",
    "print(a%2)\n",
    "print(a**b)\n",
    "print(a/b)\n",
    "print(a//b)"
   ]
  },
  {
   "cell_type": "markdown",
   "metadata": {},
   "source": [
    "# Assign operator\n",
    "Operator\tExample\tSame As\tTry it\n",
    "=\tx = 5\tx = 5\t\n",
    "+=\tx += 3\tx = x + 3\t\n",
    "-=\tx -= 3\tx = x - 3\t\n",
    "*=\tx *= 3\tx = x * 3\t\n",
    "/=\tx /= 3\tx = x / 3\t\n",
    "%=\tx %= 3\tx = x % 3\t\n",
    "//=\tx //= 3\tx = x // 3\t\n",
    "**=\tx **= 3\tx = x ** 3\t\n"
   ]
  },
  {
   "cell_type": "markdown",
   "metadata": {},
   "source": [
    "# comparion operator\n",
    "==\tEqual\tx == y\t\n",
    "!=\tNot equal\tx != y\t\n",
    ">\tGreater than\tx > y\t\n",
    "<\tLess than\tx < y\t\n",
    ">=\tGreater than or equal to\tx >= y\t\n",
    "<=\tLess than or equal to\tx <= y"
   ]
  },
  {
   "cell_type": "code",
   "execution_count": 2,
   "metadata": {},
   "outputs": [
    {
     "name": "stdout",
     "output_type": "stream",
     "text": [
      "False\n"
     ]
    }
   ],
   "source": [
    "a : int = 4\n",
    "b : int = 3\n",
    "print(a==b)"
   ]
  },
  {
   "cell_type": "code",
   "execution_count": 3,
   "metadata": {},
   "outputs": [
    {
     "name": "stdout",
     "output_type": "stream",
     "text": [
      "False\n"
     ]
    }
   ],
   "source": [
    "a : int = 3\n",
    "b : str = '7'\n",
    "print(a==b)"
   ]
  },
  {
   "cell_type": "code",
   "execution_count": 4,
   "metadata": {},
   "outputs": [
    {
     "name": "stdout",
     "output_type": "stream",
     "text": [
      "True\n"
     ]
    }
   ],
   "source": [
    "a : int = 3\n",
    "b : str = '7'\n",
    "print(a!=b)"
   ]
  },
  {
   "cell_type": "markdown",
   "metadata": {},
   "source": [
    "# ASCII CODE \n",
    "A = 65\n",
    "Z = 90\n",
    "a = 97\n",
    "z = 122\n",
    "0=48\n",
    "9=57\n"
   ]
  },
  {
   "cell_type": "code",
   "execution_count": 6,
   "metadata": {},
   "outputs": [
    {
     "data": {
      "text/plain": [
       "'A'"
      ]
     },
     "execution_count": 6,
     "metadata": {},
     "output_type": "execute_result"
    }
   ],
   "source": [
    "chr(65)"
   ]
  },
  {
   "cell_type": "code",
   "execution_count": 8,
   "metadata": {},
   "outputs": [
    {
     "data": {
      "text/plain": [
       "65"
      ]
     },
     "execution_count": 8,
     "metadata": {},
     "output_type": "execute_result"
    }
   ],
   "source": [
    "ord(\"A\")"
   ]
  },
  {
   "cell_type": "code",
   "execution_count": 7,
   "metadata": {},
   "outputs": [
    {
     "name": "stdout",
     "output_type": "stream",
     "text": [
      "True\n"
     ]
    }
   ],
   "source": [
    "a : str = \"A\"\n",
    "b : str = \"B\"\n",
    "print(b>=a)"
   ]
  },
  {
   "cell_type": "markdown",
   "metadata": {},
   "source": [
    "# Logical operator\n",
    "and \tReturns True if both statements are true\tx < 5 and  x < 10\t\n",
    "or\tReturns True if one of the statements is true\tx < 5 or x < 4\t\n",
    "not\tReverse the result, returns False if the result is true\tnot(x < 5 and x < 10)\n",
    "* and operator mein all conditions must be true\n",
    "* or operator mein koee aik b condition true ho to chl jayay ga\n",
    "* not means true ko false or false ko true krday ga"
   ]
  },
  {
   "cell_type": "code",
   "execution_count": 9,
   "metadata": {},
   "outputs": [
    {
     "name": "stdout",
     "output_type": "stream",
     "text": [
      "False\n"
     ]
    }
   ],
   "source": [
    "name : str = \"iqra\"\n",
    "print(not name==\"iqra\")"
   ]
  },
  {
   "cell_type": "markdown",
   "metadata": {},
   "source": [
    "* python identity operator\n",
    "is \tReturns True if both variables are the same object\tx is y\t\n",
    "is not\tReturns True if both variables are not the same object\tx is not y"
   ]
  },
  {
   "cell_type": "code",
   "execution_count": 14,
   "metadata": {},
   "outputs": [
    {
     "name": "stdout",
     "output_type": "stream",
     "text": [
      "140733571207432\n",
      "140733571207432\n"
     ]
    },
    {
     "data": {
      "text/plain": [
       "True"
      ]
     },
     "execution_count": 14,
     "metadata": {},
     "output_type": "execute_result"
    }
   ],
   "source": [
    "x : str ='abc' \n",
    "y : str = 'abc'\n",
    "# it will check both physical address\n",
    "print(id(x))\n",
    "print(id(y))\n",
    "x is y"
   ]
  },
  {
   "cell_type": "code",
   "execution_count": 13,
   "metadata": {},
   "outputs": [
    {
     "name": "stdout",
     "output_type": "stream",
     "text": [
      "140733571207432\n",
      "140733571207432\n"
     ]
    },
    {
     "data": {
      "text/plain": [
       "False"
      ]
     },
     "execution_count": 13,
     "metadata": {},
     "output_type": "execute_result"
    }
   ],
   "source": [
    "x : str ='abc' \n",
    "y : str = 'abc'\n",
    "# it will check both physical address\n",
    "print(id(x))\n",
    "print(id(y))\n",
    "x is not y"
   ]
  },
  {
   "cell_type": "markdown",
   "metadata": {},
   "source": [
    "* Python Membership Operators\n",
    "in \tReturns True if a sequence with the specified value is present in the object\tx in y\t\n",
    "not in\tReturns True if a sequence with the specified value is not present in the object\tx not in y\n"
   ]
  },
  {
   "cell_type": "code",
   "execution_count": 15,
   "metadata": {},
   "outputs": [
    {
     "data": {
      "text/plain": [
       "['A',\n",
       " 'B',\n",
       " 'C',\n",
       " 'D',\n",
       " 'E',\n",
       " 'F',\n",
       " 'G',\n",
       " 'H',\n",
       " 'I',\n",
       " 'J',\n",
       " 'K',\n",
       " 'L',\n",
       " 'M',\n",
       " 'N',\n",
       " 'O',\n",
       " 'P',\n",
       " 'Q',\n",
       " 'R',\n",
       " 'S',\n",
       " 'T',\n",
       " 'U',\n",
       " 'V',\n",
       " 'W',\n",
       " 'X',\n",
       " 'Y',\n",
       " 'Z']"
      ]
     },
     "execution_count": 15,
     "metadata": {},
     "output_type": "execute_result"
    }
   ],
   "source": [
    "names : list[str]=[chr(i) for i in range(65,91)]\n",
    "names"
   ]
  },
  {
   "cell_type": "code",
   "execution_count": 1,
   "metadata": {},
   "outputs": [
    {
     "data": {
      "text/plain": [
       "True"
      ]
     },
     "execution_count": 1,
     "metadata": {},
     "output_type": "execute_result"
    }
   ],
   "source": [
    "names : list[str]=[chr(i) for i in range(65,91)]\n",
    "\"D\" in names"
   ]
  },
  {
   "cell_type": "code",
   "execution_count": 3,
   "metadata": {},
   "outputs": [
    {
     "data": {
      "text/plain": [
       "True"
      ]
     },
     "execution_count": 3,
     "metadata": {},
     "output_type": "execute_result"
    }
   ],
   "source": [
    "names : list[str] = [\"Sir Zia\" ,'Sir Inam', \"sir Qasim\"]\n",
    "uinput : str = input (\"Enter your name\")\n",
    "uinput in names"
   ]
  },
  {
   "cell_type": "code",
   "execution_count": 4,
   "metadata": {},
   "outputs": [
    {
     "data": {
      "text/plain": [
       "True"
      ]
     },
     "execution_count": 4,
     "metadata": {},
     "output_type": "execute_result"
    }
   ],
   "source": [
    "names : list[str] = [\"Sir Zia\" ,'Sir Inam', \"sir Qasim\"]\n",
    "uinput : str = input (\"Enter your name\")\n",
    "uinput not in names"
   ]
  },
  {
   "cell_type": "markdown",
   "metadata": {},
   "source": [
    " # Operator Precedence"
   ]
  },
  {
   "cell_type": "markdown",
   "metadata": {},
   "source": [
    "# PEMDAS"
   ]
  },
  {
   "cell_type": "markdown",
   "metadata": {},
   "source": [
    "<img src=\"https://learningmonkey.in/wp-content/uploads/2021/05/Operator-Precedence-and-Associativity-in-Python.jpg\">"
   ]
  },
  {
   "cell_type": "code",
   "execution_count": 5,
   "metadata": {},
   "outputs": [
    {
     "name": "stdout",
     "output_type": "stream",
     "text": [
      "3.0\n"
     ]
    }
   ],
   "source": [
    "print(3 + 2 - 2 * 4 / 2 + 2)"
   ]
  },
  {
   "cell_type": "code",
   "execution_count": 6,
   "metadata": {},
   "outputs": [
    {
     "name": "stdout",
     "output_type": "stream",
     "text": [
      "14000000000\n"
     ]
    }
   ],
   "source": [
    "number : int = 14_000_000_000\n",
    "print(number)"
   ]
  },
  {
   "cell_type": "code",
   "execution_count": 7,
   "metadata": {},
   "outputs": [
    {
     "name": "stdout",
     "output_type": "stream",
     "text": [
      "a\n",
      "7\n",
      "3.0\n"
     ]
    }
   ],
   "source": [
    " \n",
    "\n",
    "\n",
    "a  , b  , c  = \"a\" , 7 , 3.0 \n",
    "print(a)\n",
    "print(b)\n",
    "print(c)"
   ]
  },
  {
   "cell_type": "code",
   "execution_count": 8,
   "metadata": {},
   "outputs": [
    {
     "name": "stdout",
     "output_type": "stream",
     "text": [
      "arooj 2 2.0\n"
     ]
    }
   ],
   "source": [
    "data=[\"arooj\",2, 2.0]\n",
    "print(data[0],data[1] ,data[2])"
   ]
  },
  {
   "cell_type": "markdown",
   "metadata": {},
   "source": [
    "# Zip data\n",
    "* ooper itni mehnat sy bchnay k liyay hm just * staric means infinite ka sign lagatay hai to yeah khud * hr value hr index sy utha k deta hai"
   ]
  },
  {
   "cell_type": "code",
   "execution_count": 9,
   "metadata": {},
   "outputs": [
    {
     "name": "stdout",
     "output_type": "stream",
     "text": [
      "arooj 2 2.0\n"
     ]
    }
   ],
   "source": [
    "data=[\"arooj\",2, 2.0]\n",
    "print(*data)"
   ]
  },
  {
   "cell_type": "markdown",
   "metadata": {},
   "source": [
    " (a<(b := a+5)>)  := valurus operator\n",
    " walurus operator allow you to assign value within a operator"
   ]
  },
  {
   "cell_type": "code",
   "execution_count": null,
   "metadata": {},
   "outputs": [],
   "source": []
  }
 ],
 "metadata": {
  "kernelspec": {
   "display_name": "pythonabc",
   "language": "python",
   "name": "python3"
  },
  "language_info": {
   "codemirror_mode": {
    "name": "ipython",
    "version": 3
   },
   "file_extension": ".py",
   "mimetype": "text/x-python",
   "name": "python",
   "nbconvert_exporter": "python",
   "pygments_lexer": "ipython3",
   "version": "3.12.0"
  }
 },
 "nbformat": 4,
 "nbformat_minor": 2
}
